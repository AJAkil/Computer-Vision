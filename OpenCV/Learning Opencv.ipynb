{
 "cells": [
  {
   "cell_type": "code",
   "execution_count": 4,
   "metadata": {},
   "outputs": [],
   "source": [
    "import cv2\n",
    "import numpy as np"
   ]
  },
  {
   "cell_type": "code",
   "execution_count": 5,
   "metadata": {},
   "outputs": [],
   "source": [
    "def rescale_image(image, scale=0.75):\n",
    "    width = int(image.shape[0] * scale)\n",
    "    height = int(image.shape[1]* scale)\n",
    "    dimensions = (width, height)\n",
    "    \n",
    "    return cv2.resize(image, dimensions, interpolation=cv2.INTER_AREA)"
   ]
  },
  {
   "cell_type": "code",
   "execution_count": 6,
   "metadata": {},
   "outputs": [],
   "source": [
    "# defining a kernel\n",
    "def get_unit_kernel(dim):\n",
    "    return np.ones((dim, dim), np.uint8)"
   ]
  },
  {
   "cell_type": "code",
   "execution_count": 2,
   "metadata": {},
   "outputs": [
    {
     "data": {
      "text/plain": [
       "-1"
      ]
     },
     "execution_count": 2,
     "metadata": {},
     "output_type": "execute_result"
    }
   ],
   "source": [
    "blank = np.zeros((500, 500, 3), dtype='uint8')\n",
    "cv2.imshow('blank', blank)\n",
    "cv2.waitKey(0)\n",
    "\n",
    "blank[:] = 0, 255, 0\n",
    "cv2.imshow('Blue', blank)\n",
    "cv2.waitKey(0)"
   ]
  },
  {
   "cell_type": "code",
   "execution_count": 3,
   "metadata": {},
   "outputs": [
    {
     "data": {
      "text/plain": [
       "-1"
      ]
     },
     "execution_count": 3,
     "metadata": {},
     "output_type": "execute_result"
    }
   ],
   "source": [
    "# drawing a rectangle upon an image\n",
    "blank = np.zeros((500, 500, 3), dtype='uint8')\n",
    "cv2.rectangle(blank, (0,0), (blank.shape[0]//2, blank.shape[1]//2), (0,255,0), thickness=-1) # -1 is for filling up the area\n",
    "cv2.imshow('Rectangle', blank)\n",
    "cv2.waitKey(0)"
   ]
  },
  {
   "cell_type": "code",
   "execution_count": 6,
   "metadata": {},
   "outputs": [
    {
     "data": {
      "text/plain": [
       "-1"
      ]
     },
     "execution_count": 6,
     "metadata": {},
     "output_type": "execute_result"
    }
   ],
   "source": [
    "# draw a circle upon an image\n",
    "cv2.circle(blank, (blank.shape[0]//2, blank.shape[1]//2), 40, (0, 0, 255), thickness=-2)\n",
    "cv2.imshow('Circle', blank)\n",
    "cv2.waitKey(0)"
   ]
  },
  {
   "cell_type": "code",
   "execution_count": 9,
   "metadata": {},
   "outputs": [
    {
     "data": {
      "text/plain": [
       "-1"
      ]
     },
     "execution_count": 9,
     "metadata": {},
     "output_type": "execute_result"
    }
   ],
   "source": [
    "# drawing a line on an image\n",
    "blank = np.zeros((500, 500, 3), dtype='uint8')\n",
    "cv2.line(blank, (0,0), (blank.shape[0]//2, blank.shape[1]//2), (255,255,255), thickness=10)\n",
    "cv2.line(blank, (blank.shape[0]//2, blank.shape[1]//2), (500, 0), (255,255,255), thickness=10)\n",
    "cv2.imshow('Lines', blank)\n",
    "cv2.waitKey(0)"
   ]
  },
  {
   "cell_type": "code",
   "execution_count": 10,
   "metadata": {},
   "outputs": [
    {
     "data": {
      "text/plain": [
       "-1"
      ]
     },
     "execution_count": 10,
     "metadata": {},
     "output_type": "execute_result"
    }
   ],
   "source": [
    "# putting a text in an image\n",
    "blank = np.zeros((500, 500, 3), dtype='uint8')\n",
    "cv2.putText(blank, 'This is fun actually', (10, 100), cv2.FONT_ITALIC, 1.0, (255,0,0), 2)\n",
    "cv2.imshow('Text', blank)\n",
    "cv2.waitKey(0)"
   ]
  },
  {
   "cell_type": "code",
   "execution_count": 7,
   "metadata": {},
   "outputs": [
    {
     "data": {
      "text/plain": [
       "-1"
      ]
     },
     "execution_count": 7,
     "metadata": {},
     "output_type": "execute_result"
    }
   ],
   "source": [
    "img = cv2.imread('Photos/car.jpg')\n",
    "rescaled_img = rescale_image(img, scale=0.25)\n",
    "cv2.imshow('Car', rescaled_img)\n",
    "cv2.waitKey(0)"
   ]
  },
  {
   "cell_type": "code",
   "execution_count": 19,
   "metadata": {},
   "outputs": [
    {
     "data": {
      "text/plain": [
       "-1"
      ]
     },
     "execution_count": 19,
     "metadata": {},
     "output_type": "execute_result"
    }
   ],
   "source": [
    "# convert to grayscale\n",
    "img_grey = cv2.cvtColor(img, cv2.COLOR_BGR2GRAY)\n",
    "img_grey = rescale_image(img_grey, scale=0.5)\n",
    "cv2.imshow('Gray Image', img_grey)\n",
    "cv2.waitKey(0)"
   ]
  },
  {
   "cell_type": "code",
   "execution_count": 9,
   "metadata": {},
   "outputs": [
    {
     "data": {
      "text/plain": [
       "-1"
      ]
     },
     "execution_count": 9,
     "metadata": {},
     "output_type": "execute_result"
    }
   ],
   "source": [
    "# Blurring The image\n",
    "blur = cv2.GaussianBlur(img_grey, (7,7), 0) #(7,7) is the kernel size\n",
    "cv2.imshow('Blur Image', blur)\n",
    "cv2.waitKey(0)"
   ]
  },
  {
   "cell_type": "code",
   "execution_count": 11,
   "metadata": {},
   "outputs": [
    {
     "data": {
      "text/plain": [
       "-1"
      ]
     },
     "execution_count": 11,
     "metadata": {},
     "output_type": "execute_result"
    }
   ],
   "source": [
    "# Canny edge Detector\n",
    "canny = cv2.Canny(img_grey, 50, 100)\n",
    "cv2.imshow('Canny Image', canny)\n",
    "\n",
    "# dilation - increase the thickness of the edge detected from the image\n",
    "img_dialated = cv2.dilate(canny, get_unit_kernel(5),iterations=1) # iterations control how many times the kernel passes over the image\n",
    "cv2.imshow('Dilated Image', img_dialated)\n",
    "\n",
    "# erosion - tries to remove the effect of dilation - makes the edges thinner\n",
    "img_eroded = cv2.erode(img_dialated, get_unit_kernel(5), iterations=1)\n",
    "cv2.imshow('Eroded Image', img_eroded)\n",
    "\n",
    "cv2.waitKey(0)\n"
   ]
  },
  {
   "cell_type": "code",
   "execution_count": 17,
   "metadata": {},
   "outputs": [
    {
     "name": "stdout",
     "output_type": "stream",
     "text": [
      "(640, 400, 3)\n"
     ]
    }
   ],
   "source": [
    "print(rescaled_img.shape)"
   ]
  },
  {
   "cell_type": "code",
   "execution_count": 27,
   "metadata": {},
   "outputs": [
    {
     "data": {
      "text/plain": [
       "-1"
      ]
     },
     "execution_count": 27,
     "metadata": {},
     "output_type": "execute_result"
    }
   ],
   "source": [
    "# cropping an image \n",
    "\"\"\"\n",
    "Height comes first, then the width of the matrix\n",
    "The cropping is basically slicing a 2d numpy array\n",
    "\"\"\"\n",
    "\n",
    "img_cropped = img_grey[100:600, 200:800]\n",
    "cv2.imshow('Cropped Image', img_cropped)\n",
    "cv2.waitKey(0)"
   ]
  },
  {
   "cell_type": "code",
   "execution_count": null,
   "metadata": {},
   "outputs": [],
   "source": []
  }
 ],
 "metadata": {
  "interpreter": {
   "hash": "58c6f50bc73aaa33b8199a045796772af23c969477792c9890af0c0d68c5792b"
  },
  "kernelspec": {
   "display_name": "Python 3 (ipykernel)",
   "language": "python",
   "name": "python3"
  },
  "language_info": {
   "codemirror_mode": {
    "name": "ipython",
    "version": 3
   },
   "file_extension": ".py",
   "mimetype": "text/x-python",
   "name": "python",
   "nbconvert_exporter": "python",
   "pygments_lexer": "ipython3",
   "version": "3.8.11"
  }
 },
 "nbformat": 4,
 "nbformat_minor": 4
}
